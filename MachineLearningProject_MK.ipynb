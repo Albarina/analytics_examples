{
 "cells": [
  {
   "cell_type": "markdown",
   "metadata": {},
   "source": [
    "This is a mahine learning project to look into the cell phone consumer/user behavior"
   ]
  },
  {
   "cell_type": "code",
   "execution_count": 2,
   "metadata": {},
   "outputs": [],
   "source": [
    "import pandas as pd\n",
    "import os\n",
    "\n",
    "from sklearn.tree import DecisionTreeClassifier\n",
    "from sklearn.model_selection import train_test_split\n",
    "from sklearn.linear_model import LogisticRegression\n",
    "from sklearn.metrics import accuracy_score\n",
    "from sklearn.ensemble import RandomForestClassifier\n",
    "from sklearn.metrics import mean_squared_error"
   ]
  },
  {
   "cell_type": "code",
   "execution_count": 3,
   "metadata": {},
   "outputs": [],
   "source": [
    "df=pd.read_csv('/datasets/users_behavior.csv')"
   ]
  },
  {
   "cell_type": "code",
   "execution_count": 4,
   "metadata": {},
   "outputs": [
    {
     "data": {
      "text/html": [
       "<div>\n",
       "<style scoped>\n",
       "    .dataframe tbody tr th:only-of-type {\n",
       "        vertical-align: middle;\n",
       "    }\n",
       "\n",
       "    .dataframe tbody tr th {\n",
       "        vertical-align: top;\n",
       "    }\n",
       "\n",
       "    .dataframe thead th {\n",
       "        text-align: right;\n",
       "    }\n",
       "</style>\n",
       "<table border=\"1\" class=\"dataframe\">\n",
       "  <thead>\n",
       "    <tr style=\"text-align: right;\">\n",
       "      <th></th>\n",
       "      <th>calls</th>\n",
       "      <th>minutes</th>\n",
       "      <th>messages</th>\n",
       "      <th>mb_used</th>\n",
       "      <th>is_ultra</th>\n",
       "    </tr>\n",
       "  </thead>\n",
       "  <tbody>\n",
       "    <tr>\n",
       "      <td>count</td>\n",
       "      <td>3214.000000</td>\n",
       "      <td>3214.000000</td>\n",
       "      <td>3214.000000</td>\n",
       "      <td>3214.000000</td>\n",
       "      <td>3214.000000</td>\n",
       "    </tr>\n",
       "    <tr>\n",
       "      <td>mean</td>\n",
       "      <td>63.038892</td>\n",
       "      <td>438.208787</td>\n",
       "      <td>38.281269</td>\n",
       "      <td>17207.673836</td>\n",
       "      <td>0.306472</td>\n",
       "    </tr>\n",
       "    <tr>\n",
       "      <td>std</td>\n",
       "      <td>33.236368</td>\n",
       "      <td>234.569872</td>\n",
       "      <td>36.148326</td>\n",
       "      <td>7570.968246</td>\n",
       "      <td>0.461100</td>\n",
       "    </tr>\n",
       "    <tr>\n",
       "      <td>min</td>\n",
       "      <td>0.000000</td>\n",
       "      <td>0.000000</td>\n",
       "      <td>0.000000</td>\n",
       "      <td>0.000000</td>\n",
       "      <td>0.000000</td>\n",
       "    </tr>\n",
       "    <tr>\n",
       "      <td>25%</td>\n",
       "      <td>40.000000</td>\n",
       "      <td>274.575000</td>\n",
       "      <td>9.000000</td>\n",
       "      <td>12491.902500</td>\n",
       "      <td>0.000000</td>\n",
       "    </tr>\n",
       "    <tr>\n",
       "      <td>50%</td>\n",
       "      <td>62.000000</td>\n",
       "      <td>430.600000</td>\n",
       "      <td>30.000000</td>\n",
       "      <td>16943.235000</td>\n",
       "      <td>0.000000</td>\n",
       "    </tr>\n",
       "    <tr>\n",
       "      <td>75%</td>\n",
       "      <td>82.000000</td>\n",
       "      <td>571.927500</td>\n",
       "      <td>57.000000</td>\n",
       "      <td>21424.700000</td>\n",
       "      <td>1.000000</td>\n",
       "    </tr>\n",
       "    <tr>\n",
       "      <td>max</td>\n",
       "      <td>244.000000</td>\n",
       "      <td>1632.060000</td>\n",
       "      <td>224.000000</td>\n",
       "      <td>49745.730000</td>\n",
       "      <td>1.000000</td>\n",
       "    </tr>\n",
       "  </tbody>\n",
       "</table>\n",
       "</div>"
      ],
      "text/plain": [
       "             calls      minutes     messages       mb_used     is_ultra\n",
       "count  3214.000000  3214.000000  3214.000000   3214.000000  3214.000000\n",
       "mean     63.038892   438.208787    38.281269  17207.673836     0.306472\n",
       "std      33.236368   234.569872    36.148326   7570.968246     0.461100\n",
       "min       0.000000     0.000000     0.000000      0.000000     0.000000\n",
       "25%      40.000000   274.575000     9.000000  12491.902500     0.000000\n",
       "50%      62.000000   430.600000    30.000000  16943.235000     0.000000\n",
       "75%      82.000000   571.927500    57.000000  21424.700000     1.000000\n",
       "max     244.000000  1632.060000   224.000000  49745.730000     1.000000"
      ]
     },
     "execution_count": 4,
     "metadata": {},
     "output_type": "execute_result"
    }
   ],
   "source": [
    "df.describe()"
   ]
  },
  {
   "cell_type": "code",
   "execution_count": 5,
   "metadata": {},
   "outputs": [
    {
     "name": "stdout",
     "output_type": "stream",
     "text": [
      "<class 'pandas.core.frame.DataFrame'>\n",
      "RangeIndex: 3214 entries, 0 to 3213\n",
      "Data columns (total 5 columns):\n",
      "calls       3214 non-null float64\n",
      "minutes     3214 non-null float64\n",
      "messages    3214 non-null float64\n",
      "mb_used     3214 non-null float64\n",
      "is_ultra    3214 non-null int64\n",
      "dtypes: float64(4), int64(1)\n",
      "memory usage: 125.7 KB\n"
     ]
    }
   ],
   "source": [
    "df.info()"
   ]
  },
  {
   "cell_type": "markdown",
   "metadata": {},
   "source": [
    "The number of observations is n=3214; the dataset is not super huge, so the decision is made to split the set into three: train, validate, and test according to the following ratio: 60:20:20"
   ]
  },
  {
   "cell_type": "code",
   "execution_count": 6,
   "metadata": {},
   "outputs": [],
   "source": [
    "from sklearn.model_selection import train_test_split \n",
    "df_train, df_test = train_test_split (df, train_size=0.8, random_state=123 )\n",
    "df_train, df_valid = train_test_split(df_train,test_size = 0.25, random_state=123)"
   ]
  },
  {
   "cell_type": "code",
   "execution_count": 7,
   "metadata": {},
   "outputs": [
    {
     "name": "stdout",
     "output_type": "stream",
     "text": [
      "<class 'pandas.core.frame.DataFrame'>\n",
      "Int64Index: 1928 entries, 1808 to 1525\n",
      "Data columns (total 5 columns):\n",
      "calls       1928 non-null float64\n",
      "minutes     1928 non-null float64\n",
      "messages    1928 non-null float64\n",
      "mb_used     1928 non-null float64\n",
      "is_ultra    1928 non-null int64\n",
      "dtypes: float64(4), int64(1)\n",
      "memory usage: 90.4 KB\n",
      "<class 'pandas.core.frame.DataFrame'>\n",
      "Int64Index: 643 entries, 2377 to 1503\n",
      "Data columns (total 5 columns):\n",
      "calls       643 non-null float64\n",
      "minutes     643 non-null float64\n",
      "messages    643 non-null float64\n",
      "mb_used     643 non-null float64\n",
      "is_ultra    643 non-null int64\n",
      "dtypes: float64(4), int64(1)\n",
      "memory usage: 30.1 KB\n",
      "<class 'pandas.core.frame.DataFrame'>\n",
      "Int64Index: 643 entries, 215 to 2338\n",
      "Data columns (total 5 columns):\n",
      "calls       643 non-null float64\n",
      "minutes     643 non-null float64\n",
      "messages    643 non-null float64\n",
      "mb_used     643 non-null float64\n",
      "is_ultra    643 non-null int64\n",
      "dtypes: float64(4), int64(1)\n",
      "memory usage: 30.1 KB\n"
     ]
    }
   ],
   "source": [
    "df_train.info()\n",
    "df_test.info()\n",
    "df_valid.info()"
   ]
  },
  {
   "cell_type": "code",
   "execution_count": 8,
   "metadata": {},
   "outputs": [],
   "source": [
    "features=df.drop(['is_ultra'], axis=1)\n",
    "target=df['is_ultra']\n",
    "train_features=df_train.drop(['is_ultra'], axis=1)\n",
    "train_target=df_train['is_ultra']\n",
    "valid_features=df_valid.drop(['is_ultra'], axis=1)\n",
    "valid_target=df_valid['is_ultra']\n",
    "test_features=df_test.drop(['is_ultra'], axis=1)\n",
    "test_target=df_test['is_ultra']"
   ]
  },
  {
   "cell_type": "code",
   "execution_count": 9,
   "metadata": {},
   "outputs": [
    {
     "name": "stdout",
     "output_type": "stream",
     "text": [
      "Decision Tree\n",
      "max_depth= 1 :0.7356143079315708\n",
      "max_depth= 2 :0.7651632970451011\n",
      "max_depth= 3 :0.7838258164852255\n",
      "max_depth= 4 :0.7822706065318819\n"
     ]
    }
   ],
   "source": [
    "print('Decision Tree')\n",
    "for depth in range (1,5):\n",
    "    tree_model=DecisionTreeClassifier(random_state=12345, max_depth=depth)\n",
    "    tree_model.fit(train_features, train_target)\n",
    "    tree_valid_predictions=tree_model.predict(valid_features)\n",
    "    print('max_depth=', depth, ':', end=\"\")\n",
    "    print(accuracy_score(valid_target, tree_valid_predictions))\n",
    "     \n",
    "    "
   ]
  },
  {
   "cell_type": "markdown",
   "metadata": {},
   "source": [
    "I chose accuracy score for the classifier. It shows that the model accuracy is the highest when max depth is 3. It shows that the model is correct in predicting the correct answer about 78% of the time. Further, the ultimate depth of tree is 3 nodes. Extending the max depth to 4 does not yeld any better accuracy results."
   ]
  },
  {
   "cell_type": "code",
   "execution_count": 10,
   "metadata": {},
   "outputs": [
    {
     "name": "stdout",
     "output_type": "stream",
     "text": [
      "Random Forest\n",
      "n_estimator= 10 : 0.8884854771784232\n",
      "n_estimator= 20 : 0.8921161825726142\n",
      "n_estimator= 30 : 0.9004149377593361\n",
      "n_estimator= 40 : 0.899896265560166\n",
      "n_estimator= 50 : 0.899896265560166\n"
     ]
    }
   ],
   "source": [
    "print('Random Forest')\n",
    "for i in range (10, 51,10):\n",
    "    forest_model=RandomForestClassifier(n_estimators=i, max_depth=10, random_state=12345)\n",
    "    forest_model.fit(train_features, train_target)\n",
    "    #forest_valid_predictions=forest_model.predict(valid_features)\n",
    "    #forest_mse=mean_squared_error(valid_target, forest_valid_predictions)\n",
    "    #forest_rmse=forest_mse**0.5\n",
    "    score=forest_model.score(train_features, train_target)\n",
    "    print('n_estimator=', i,':', score)"
   ]
  },
  {
   "cell_type": "markdown",
   "metadata": {},
   "source": [
    "Random Forest Classifer model was run with changing hyperparameters. The results show that the most accurate model is the random forest model with 30 trees."
   ]
  },
  {
   "cell_type": "code",
   "execution_count": 22,
   "metadata": {},
   "outputs": [
    {
     "name": "stdout",
     "output_type": "stream",
     "text": [
      "Random Forest validation\n",
      "n_estimator= 10 0.7838258164852255\n",
      "n_estimator= 20 0.776049766718507\n",
      "n_estimator= 30 0.7853810264385692\n",
      "n_estimator= 40 0.7838258164852255\n",
      "n_estimator= 50 0.7853810264385692\n"
     ]
    }
   ],
   "source": [
    "print('Random Forest validation')\n",
    "for i in range(10, 51, 10):\n",
    "    forest_model=RandomForestClassifier(n_estimators=i, random_state=12345)\n",
    "    forest_model.fit(train_features, train_target)\n",
    "    score=forest_model.score(valid_features, valid_target)\n",
    "    print('n_estimator=',i, score)"
   ]
  },
  {
   "cell_type": "code",
   "execution_count": 23,
   "metadata": {},
   "outputs": [
    {
     "name": "stderr",
     "output_type": "stream",
     "text": [
      "/opt/conda/lib/python3.7/site-packages/sklearn/linear_model/logistic.py:432: FutureWarning: Default solver will be changed to 'lbfgs' in 0.22. Specify a solver to silence this warning.\n",
      "  FutureWarning)\n"
     ]
    },
    {
     "data": {
      "text/plain": [
       "0.702954898911353"
      ]
     },
     "execution_count": 23,
     "metadata": {},
     "output_type": "execute_result"
    }
   ],
   "source": [
    "model=LogisticRegression(random_state=12345)\n",
    "model.fit(train_features, train_target)\n",
    "model.score(valid_features, valid_target)"
   ]
  },
  {
   "cell_type": "markdown",
   "metadata": {},
   "source": [
    "Random forest regression seems to be the most accurate."
   ]
  },
  {
   "cell_type": "code",
   "execution_count": 24,
   "metadata": {},
   "outputs": [
    {
     "name": "stdout",
     "output_type": "stream",
     "text": [
      "test_random_forest 0.7978227060653188\n"
     ]
    }
   ],
   "source": [
    "test_model=RandomForestClassifier(n_estimators=30, random_state=12345)\n",
    "test_model.fit(train_features, train_target)\n",
    "score_test=test_model.score(test_features, test_target)\n",
    "print('test_random_forest', score_test)"
   ]
  },
  {
   "cell_type": "markdown",
   "metadata": {},
   "source": [
    "Scoring the best model with the help of the test set shows very a slightly improved degree of accuracy. The random forest model explains with about 80% of accuracy."
   ]
  }
 ],
 "metadata": {
  "kernelspec": {
   "display_name": "Python 3",
   "language": "python",
   "name": "python3"
  },
  "language_info": {
   "codemirror_mode": {
    "name": "ipython",
    "version": 3
   },
   "file_extension": ".py",
   "mimetype": "text/x-python",
   "name": "python",
   "nbconvert_exporter": "python",
   "pygments_lexer": "ipython3",
   "version": "3.8.5"
  },
  "toc": {
   "base_numbering": 1,
   "nav_menu": {},
   "number_sections": true,
   "sideBar": true,
   "skip_h1_title": true,
   "title_cell": "Table of Contents",
   "title_sidebar": "Contents",
   "toc_cell": false,
   "toc_position": {},
   "toc_section_display": true,
   "toc_window_display": false
  }
 },
 "nbformat": 4,
 "nbformat_minor": 2
}
