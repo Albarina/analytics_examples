{
 "cells": [
  {
   "cell_type": "markdown",
   "metadata": {},
   "source": [
    "This exercise is solving a task for a mining company that is looking to determine a best place for a new well. The company has data for three regions. The following steps are required to chose the best location for a new well:\n",
    "   - collect the oil well parameters in the selected region: oil quality and volume of reserves;\n",
    "   - build a model for predicting the volume of reserves in the new wells;\n",
    "   - pick the oil well with the highest estimated values;\n",
    "   - pick the reguion with the highest total profit for the selected oil wells."
   ]
  },
  {
   "cell_type": "code",
   "execution_count": 49,
   "metadata": {},
   "outputs": [],
   "source": [
    "import pandas as pd\n",
    "import numpy as np\n",
    "from sklearn import preprocessing\n",
    "from sklearn.preprocessing import StandardScaler\n",
    "from sklearn.model_selection import train_test_split\n",
    "from sklearn.linear_model import LinearRegression\n",
    "from sklearn.model_selection import cross_val_score\n",
    "from sklearn import metrics\n",
    "from sklearn.metrics import mean_squared_error\n",
    "import matplotlib.pyplot as plt\n",
    "import warnings\n",
    "warnings.filterwarnings(\"ignore\")\n",
    "import os"
   ]
  },
  {
   "cell_type": "markdown",
   "metadata": {},
   "source": [
    "Download and prepare the data"
   ]
  },
  {
   "cell_type": "code",
   "execution_count": 50,
   "metadata": {},
   "outputs": [],
   "source": [
    "os.chdir(os.path.join(os.getcwd(), \"path",
    "path=os.getcwd()"
   ]
  },
  {
   "cell_type": "code",
   "execution_count": 51,
   "metadata": {},
   "outputs": [],
   "source": [
    "region0=pd.read_csv('geo_data_0 (1).csv')\n",
    "region1=pd.read_csv('geo_data_1 (1).csv')\n",
    "region2=pd.read_csv('geo_data_2 (1).csv')"
   ]
  },
  {
   "cell_type": "code",
   "execution_count": 52,
   "metadata": {},
   "outputs": [
    {
     "name": "stdout",
     "output_type": "stream",
     "text": [
      "id         0.0\n",
      "f0         0.0\n",
      "f1         0.0\n",
      "f2         0.0\n",
      "product    0.0\n",
      "dtype: float64\n",
      "0\n"
     ]
    }
   ],
   "source": [
    "print(region0.isna().mean())\n",
    "print(region0.duplicated().sum()) # there are 100000 entries, no duplicates, no missing values\n",
    "region0=region0.drop(['id'], axis=1) # drop the variable that is useless "
   ]
  },
  {
   "cell_type": "code",
   "execution_count": 53,
   "metadata": {},
   "outputs": [
    {
     "name": "stdout",
     "output_type": "stream",
     "text": [
      "<class 'pandas.core.frame.DataFrame'>\n",
      "RangeIndex: 100000 entries, 0 to 99999\n",
      "Data columns (total 4 columns):\n",
      " #   Column   Non-Null Count   Dtype  \n",
      "---  ------   --------------   -----  \n",
      " 0   f0       100000 non-null  float64\n",
      " 1   f1       100000 non-null  float64\n",
      " 2   f2       100000 non-null  float64\n",
      " 3   product  100000 non-null  float64\n",
      "dtypes: float64(4)\n",
      "memory usage: 3.1 MB\n"
     ]
    },
    {
     "data": {
      "text/plain": [
       "None"
      ]
     },
     "metadata": {},
     "output_type": "display_data"
    },
    {
     "data": {
      "text/plain": [
       "f0         0.0\n",
       "f1         0.0\n",
       "f2         0.0\n",
       "product    0.0\n",
       "dtype: float64"
      ]
     },
     "metadata": {},
     "output_type": "display_data"
    },
    {
     "data": {
      "text/plain": [
       "0"
      ]
     },
     "execution_count": 53,
     "metadata": {},
     "output_type": "execute_result"
    }
   ],
   "source": [
    "region1=region1.drop(['id'], axis=1) \n",
    "display(region1.info())\n",
    "display(region1.isna().mean())\n",
    "region1.duplicated().sum() #no missing values, no duplicates"
   ]
  },
  {
   "cell_type": "code",
   "execution_count": 54,
   "metadata": {},
   "outputs": [
    {
     "name": "stdout",
     "output_type": "stream",
     "text": [
      "<class 'pandas.core.frame.DataFrame'>\n",
      "RangeIndex: 100000 entries, 0 to 99999\n",
      "Data columns (total 4 columns):\n",
      " #   Column   Non-Null Count   Dtype  \n",
      "---  ------   --------------   -----  \n",
      " 0   f0       100000 non-null  float64\n",
      " 1   f1       100000 non-null  float64\n",
      " 2   f2       100000 non-null  float64\n",
      " 3   product  100000 non-null  float64\n",
      "dtypes: float64(4)\n",
      "memory usage: 3.1 MB\n",
      "f0         0.0\n",
      "f1         0.0\n",
      "f2         0.0\n",
      "product    0.0\n",
      "dtype: float64\n",
      "0\n"
     ]
    }
   ],
   "source": [
    "region2=region2.drop(['id'], axis=1)\n",
    "region2.info()\n",
    "print(region2.isna().mean())\n",
    "print(region2.duplicated().sum()) # no missing values, no duplicates"
   ]
  },
  {
   "cell_type": "markdown",
   "metadata": {},
   "source": [
    "2.Train and test the model for region 0"
   ]
  },
  {
   "cell_type": "code",
   "execution_count": 55,
   "metadata": {},
   "outputs": [
    {
     "name": "stdout",
     "output_type": "stream",
     "text": [
      "rmse region 0: 37.5794217150813\n",
      "average predicted volume region 0: 92.59256778438038\n",
      "coefficients region 0: [ 3.13230747 -7.1114281  21.41612944]\n"
     ]
    }
   ],
   "source": [
    "target=region0['product']\n",
    "features=region0.drop(['product'], axis=1)\n",
    "\n",
    "state=random_state=12345\n",
    "features_train, features_valid, target_train, target_valid = train_test_split(features, target, test_size=0.25, random_state=state)\n",
    "scaler=StandardScaler()\n",
    "\n",
    "numeric=['f0', 'f1', 'f2'] # standardizing features\n",
    "scaler.fit(features)\n",
    "features_train[numeric]=scaler.transform(features_train[numeric])\n",
    "features_valid[numeric]=scaler.transform(features_valid[numeric])\n",
    "\n",
    "model=LinearRegression().fit(features_train, target_train)\n",
    "predictions0=model.predict(features_valid)\n",
    "\n",
    "mse=mean_squared_error(target_valid, predictions0)\n",
    "print('rmse region 0:', mse**0.5)\n",
    "print('average predicted volume region 0:', predictions0.mean())\n",
    "\n",
    "print(\"coefficients region 0:\", model.coef_)"
   ]
  },
  {
   "cell_type": "markdown",
   "metadata": {},
   "source": [
    "Train and test the model for region 1"
   ]
  },
  {
   "cell_type": "code",
   "execution_count": 56,
   "metadata": {},
   "outputs": [
    {
     "name": "stdout",
     "output_type": "stream",
     "text": [
      "rmse region 1: 0.8930992867756181\n",
      "average predicted volume region 1: 68.72854689544602\n",
      "coefficients region 1: [-1.29952429 -0.11277922 45.9130339 ]\n"
     ]
    }
   ],
   "source": [
    "target1=region1['product']\n",
    "features1=region1.drop(['product'], axis=1)\n",
    "\n",
    "numeric=['f0','f1','f2'] # standardizing features\n",
    "features1_train, features1_valid, target1_train, target1_valid = train_test_split(features1, target1, test_size=0.25, random_state=state)\n",
    "scaler = StandardScaler()\n",
    "\n",
    "scaler.fit(features1)\n",
    "\n",
    "features1_train[numeric]=scaler.transform(features1_train[numeric])\n",
    "features1_valid[numeric]=scaler.transform(features1_valid[numeric])\n",
    "\n",
    "model1=LinearRegression().fit(features1_train, target1_train)\n",
    "predictions1=model1.predict(features1_valid)\n",
    "mse1=mean_squared_error(target1_valid, predictions1)\n",
    "print('rmse region 1:', mse1**0.5)\n",
    "print('average predicted volume region 1:', predictions1.mean())\n",
    "print('coefficients region 1:', model1.coef_)"
   ]
  },
  {
   "cell_type": "code",
   "execution_count": 57,
   "metadata": {},
   "outputs": [
    {
     "name": "stdout",
     "output_type": "stream",
     "text": [
      "rmse region 2: 40.02970873393434\n",
      "average predicted volume region 2: 94.96504596800489\n",
      "coefficients region 2: [ 0.0535818  -0.07246463 19.82820687]\n"
     ]
    }
   ],
   "source": [
    "target2=region2['product']\n",
    "features2=region2.drop(['product'], axis=1)\n",
    "\n",
    "numeric=['f0','f1','f2'] # standardizing features\n",
    "features2_train, features2_valid, target2_train, target2_valid = train_test_split(features2, target2, test_size=0.25, random_state=state)\n",
    "scaler = StandardScaler()\n",
    "\n",
    "scaler.fit(features2)\n",
    "\n",
    "features2_train[numeric]=scaler.transform(features2_train[numeric])\n",
    "features2_valid[numeric]=scaler.transform(features2_valid[numeric])\n",
    "\n",
    "model2=LinearRegression().fit(features2_train, target2_train)\n",
    "predictions2=model2.predict(features2_valid)\n",
    "mse2=mean_squared_error(target2_valid, predictions2)\n",
    "print('rmse region 2:', mse2**0.5)\n",
    "print('average predicted volume region 2:', predictions2.mean())\n",
    "print('coefficients region 2:', model2.coef_)"
   ]
  },
  {
   "cell_type": "markdown",
   "metadata": {},
   "source": [
    "Preliminary model analysis: Region 2 average predicted volume is highest, however rmse is smaller for region 0. The combination of predicted volume and rmse point that the model performs better for region 0.  "
   ]
  },
  {
   "cell_type": "markdown",
   "metadata": {},
   "source": [
    "3. Prepare for profit calculation"
   ]
  },
  {
   "cell_type": "code",
   "execution_count": 58,
   "metadata": {},
   "outputs": [
    {
     "name": "stdout",
     "output_type": "stream",
     "text": [
      "break-even volume 111.11111111111111\n",
      "region 0 average volume 92.49999999999976\n",
      "region 1 average volume 68.82500000002561\n",
      "region 2 average volume 95.00000000000041\n"
     ]
    }
   ],
   "source": [
    "REVENUE_PER_UNIT=4500\n",
    "\n",
    "CAP_COST=100000000\n",
    "NUMBER_WELLS=200\n",
    "volume_per_well=((CAP_COST/REVENUE_PER_UNIT)/NUMBER_WELLS)\n",
    "print('break-even volume', volume_per_well)\n",
    "\n",
    "print('region 0 average volume', target.mean())\n",
    "print('region 1 average volume', target1.mean())\n",
    "print('region 2 average volume', target2.mean())"
   ]
  },
  {
   "cell_type": "markdown",
   "metadata": {},
   "source": [
    "Analysis: To make profit, a new well must make at least 111.11 barrels. All three regions average below this break-even point. "
   ]
  },
  {
   "cell_type": "markdown",
   "metadata": {},
   "source": [
    "4. selecting 500 wells for each region"
   ]
  },
  {
   "cell_type": "code",
   "execution_count": 59,
   "metadata": {
    "scrolled": false
   },
   "outputs": [
    {
     "name": "stdout",
     "output_type": "stream",
     "text": [
      "region 0 sample size: 500\n",
      "rmse: 37.035534416873844\n",
      "average predicted volume: 89.768356841781\n",
      "coefficients: [ 2.75660593 -8.27259136 19.99306522]\n"
     ]
    }
   ],
   "source": [
    "region0_sample=region0.sample(n=500, random_state=12345) # taking a random sample of 500 wells from region 0\n",
    "print('region 0 sample size:', len(region0_sample)) #check to make sure that the code selects the right number of points\n",
    "\n",
    "target_sample=region0_sample['product']\n",
    "features_sample=region0_sample.drop(['product'], axis=1)\n",
    "\n",
    "state=random_state=12345\n",
    "scaler=StandardScaler()\n",
    "numeric=['f0', 'f1', 'f2'] # standardizing features\n",
    "scaler.fit(features_sample)\n",
    "features_sample[numeric]=scaler.transform(features_sample[numeric])\n",
    "\n",
    "model_sample0=LinearRegression().fit(features_sample, target_sample)\n",
    "predictions_sample0=model_sample0.predict(features_sample)\n",
    "predictions_sample0=pd.Series(predictions_sample0, index=target_sample)\n",
    "\n",
    "mse=mean_squared_error(target_sample, predictions_sample0)\n",
    "print('rmse:', mse**0.5)\n",
    "print('average predicted volume:', predictions_sample0.mean())\n",
    "\n",
    "print(\"coefficients:\", model_sample0.coef_)\n"
   ]
  },
  {
   "cell_type": "code",
   "execution_count": 60,
   "metadata": {},
   "outputs": [
    {
     "name": "stdout",
     "output_type": "stream",
     "text": [
      "region 1 sample size: 500\n",
      "rmse: 0.883827951285945\n",
      "average predicted volume: 67.0223935465809\n",
      "coefficients: [-1.31805378 -0.0757107  45.91703586]\n"
     ]
    }
   ],
   "source": [
    "region1_sample=region1.sample(n=500, random_state=12345) # taking a random sample of 500 wells from region 1\n",
    "print('region 1 sample size:', len(region1_sample))\n",
    "\n",
    "target1_sample=region1_sample['product']\n",
    "features1_sample=region1_sample.drop(['product'], axis=1)\n",
    "\n",
    "state=random_state=12345\n",
    "scaler=StandardScaler()\n",
    "numeric=['f0', 'f1', 'f2'] # standardizing features\n",
    "scaler.fit(features1_sample)\n",
    "features1_sample[numeric]=scaler.transform(features1_sample[numeric])\n",
    "\n",
    "model_sample1=LinearRegression().fit(features1_sample, target1_sample)\n",
    "predictions_sample1=model_sample1.predict(features1_sample)\n",
    "predictions_sample1=pd.Series(predictions_sample1, index=target1_sample)\n",
    "\n",
    "mse1=mean_squared_error(target1_sample, predictions_sample1)\n",
    "print('rmse:', mse1**0.5)\n",
    "print('average predicted volume:', predictions_sample1.mean())\n",
    "\n",
    "print(\"coefficients:\", model_sample1.coef_)"
   ]
  },
  {
   "cell_type": "code",
   "execution_count": 61,
   "metadata": {
    "scrolled": false
   },
   "outputs": [
    {
     "name": "stdout",
     "output_type": "stream",
     "text": [
      "region 2 sample size: 500\n",
      "rmse: 39.88285263013698\n",
      "average predicted volume: 93.5112754001126\n",
      "coefficients: [ 0.03437225 -1.5491585  18.26005504]\n"
     ]
    }
   ],
   "source": [
    "region2_sample=region2.sample(n=500, random_state=12345) # taking a random sample of 500 wells from region 1\n",
    "print('region 2 sample size:', len(region2_sample))\n",
    "\n",
    "target2_sample=region2_sample['product']\n",
    "features2_sample=region2_sample.drop(['product'], axis=1)\n",
    "\n",
    "state=random_state=12345\n",
    "scaler=StandardScaler()\n",
    "numeric=['f0', 'f1', 'f2'] # standardizing features\n",
    "scaler.fit(features2_sample)\n",
    "features2_sample[numeric]=scaler.transform(features2_sample[numeric])\n",
    "\n",
    "model_sample2=LinearRegression().fit(features2_sample, target2_sample)\n",
    "predictions_sample2=pd.Series(model_sample2.predict(features2_sample), index=target2_sample)\n",
    " \n",
    "mse2=mean_squared_error(target2_sample, predictions_sample2)\n",
    "print('rmse:', mse2**0.5)\n",
    "print('average predicted volume:', predictions_sample2.mean())\n",
    "\n",
    "print(\"coefficients:\", model_sample2.coef_)"
   ]
  },
  {
   "cell_type": "markdown",
   "metadata": {},
   "source": [
    "Analysis - none of the predicted volume reaches the volume to break even. Model for region one performs the best (lowest rmse). Region 2 has the highest predicted volume per well. Region 1 has the lowest predicted volume per well."
   ]
  },
  {
   "cell_type": "markdown",
   "metadata": {},
   "source": [
    "4.2: summarize the target volume of reserves in accordance with these predictions"
   ]
  },
  {
   "cell_type": "code",
   "execution_count": 62,
   "metadata": {},
   "outputs": [],
   "source": [
    "def revenue(predicted_sample, target_sample):\n",
    "    predict_sort=predicted_sample.sort_values(ascending=False)\n",
    "    target_select=target_sample[predict_sort.index][:200]\n",
    "    revenue=((target_select.sum()*REVENUE_PER_UNIT)-CAP_COST)\n",
    "    return revenue"
   ]
  },
  {
   "cell_type": "markdown",
   "metadata": {},
   "source": [
    "5.Calculate risks and profit for each region"
   ]
  },
  {
   "cell_type": "code",
   "execution_count": 63,
   "metadata": {},
   "outputs": [
    {
     "name": "stdout",
     "output_type": "stream",
     "text": [
      "lower: -1020900.9483793724 upper: 9479763.533583675\n",
      "Average profit 4259385.269105927\n",
      "risk of losses region 0: 0.06%\n"
     ]
    }
   ],
   "source": [
    "state=np.random.RandomState(12345)\n",
    "\n",
    "values=[]\n",
    "for i in range(1000):\n",
    "    target_subsample=target_valid.sample(n=500, replace=True, random_state=state) \n",
    "    predictions0=pd.Series(predictions0, index=target_valid.index)\n",
    "    probs_subsample=predictions0[target_subsample.index]\n",
    "    values.append(revenue(probs_subsample, target_subsample))\n",
    "\n",
    "values=pd.Series(values)\n",
    "\n",
    "risk = np.mean(values < 0)\n",
    "\n",
    "lower=values.quantile(0.025)\n",
    "upper=values.quantile(0.975)\n",
    "print('lower:',lower, 'upper:',upper)\n",
    "\n",
    "mean=values.mean()\n",
    "print('Average profit', mean)\n",
    "print('risk of losses region 0: {}%'.format(risk))"
   ]
  },
  {
   "cell_type": "code",
   "execution_count": 71,
   "metadata": {},
   "outputs": [
    {
     "data": {
      "image/png": "[encoded data removed]",
      "text/plain": [
       "<Figure size 432x288 with 1 Axes>"
      ]
     },
     "metadata": {
      "needs_background": "light"
     },
     "output_type": "display_data"
    }
   ],
   "source": [
    "target_valid.hist()\n",
    "predictions0.hist()\n",
    "target.mean()\n",
    "plt.title('Real and Predicted values Region 0')\n",
    "plt.xlabel('volume')\n",
    "plt.show()"
   ]
  },
  {
   "cell_type": "code",
   "execution_count": 72,
   "metadata": {},
   "outputs": [
    {
     "name": "stdout",
     "output_type": "stream",
     "text": [
      "lower: 688732.2537050088 upper: 9315475.912570495\n",
      "Average profit1 5152227.734432902\n",
      "risk of losses region 1: 0.01%\n"
     ]
    }
   ],
   "source": [
    "state=np.random.RandomState(12345)\n",
    "values1=[]\n",
    "\n",
    "for i in range(1000):\n",
    "    target_subsample1=target1_valid.sample(n=500, replace=True, random_state=state)\n",
    "    predictions1=pd.Series(predictions1, index=target1_valid.index)\n",
    "    probs_subsample1=predictions1[target_subsample1.index]\n",
    "    values1.append(revenue(probs_subsample1, target_subsample1))\n",
    "\n",
    "values1=pd.Series(values1)\n",
    "risk1 = np.mean(values1 < 0)\n",
    "lower=values1.quantile(0.025)\n",
    "upper=values1.quantile(0.975)\n",
    "print('lower:',lower, 'upper:',upper)\n",
    "#print(upper)\n",
    "#print(lower)\n",
    "mean=values1.mean()\n",
    "print('Average profit1', mean)\n",
    "print('risk of losses region 1: {}%'.format(risk1))"
   ]
  },
  {
   "cell_type": "code",
   "execution_count": 74,
   "metadata": {},
   "outputs": [
    {
     "data": {
      "image/png": "[encoded data removed]",
      "text/plain": [
       "<Figure size 432x288 with 1 Axes>"
      ]
     },
     "metadata": {
      "needs_background": "light"
     },
     "output_type": "display_data"
    }
   ],
   "source": [
    "target1_valid.hist()\n",
    "predictions1.hist()\n",
    "plt.title('Real and Predicted values Region 1')\n",
    "plt.xlabel('volume')\n",
    "plt.show()"
   ]
  },
  {
   "cell_type": "code",
   "execution_count": 75,
   "metadata": {},
   "outputs": [
    {
     "name": "stdout",
     "output_type": "stream",
     "text": [
      "lower: -1359884.0523147471 upper: 9696189.965080727\n",
      "Average profit 2: 4266493.222645484\n",
      "risk of losses region 2:n 0.076%\n"
     ]
    }
   ],
   "source": [
    "values2=[]\n",
    "\n",
    "for i in range(1000):\n",
    "    target_subsample2=target2_valid.sample(n=500, replace=True, random_state=state)\n",
    "    predictions2=pd.Series(predictions2, index=target2_valid.index)\n",
    "    probs_subsample2=predictions2[target_subsample2.index]\n",
    "    values2.append(revenue(probs_subsample2, target_subsample2))\n",
    "\n",
    "values2=pd.Series(values2)\n",
    "\n",
    "risk2 = np.mean(values2 < 0)\n",
    "lower=values2.quantile(0.025)\n",
    "upper=values2.quantile(0.975)\n",
    "print('lower:',lower, 'upper:',upper)\n",
    "mean2=values2.mean()\n",
    "print('Average profit 2:', mean2)\n",
    "print('risk of losses region 2:n {}%'.format(risk2))"
   ]
  },
  {
   "cell_type": "code",
   "execution_count": 77,
   "metadata": {},
   "outputs": [
    {
     "data": {
      "image/png": "[encoded data removed]",
      "text/plain": [
       "<Figure size 432x288 with 1 Axes>"
      ]
     },
     "metadata": {
      "needs_background": "light"
     },
     "output_type": "display_data"
    },
    {
     "name": "stdout",
     "output_type": "stream",
     "text": [
      "Average predicted values, region 2: 94.88423280885489\n",
      "Average values, region 2: 95.00000000000041\n"
     ]
    }
   ],
   "source": [
    "target2_valid.hist()\n",
    "predictions2.hist()\n",
    "plt.title('Real and Predicted values Region 2')\n",
    "plt.xlabel('volume')\n",
    "plt.show()\n",
    "print('Average predicted values, region 2:', target2_valid.mean())\n",
    "print('Average values, region 2:', target2.mean())"
   ]
  },
  {
   "cell_type": "markdown",
   "metadata": {},
   "source": [
    "Analysis: the least risk is for region 1 is the lowes and the average profit is the highest. However, the model for region 1 is under-performing with high rmse and the average and predicted volumes are much lower than the other two regions. I feel like I've made a mistake again."
   ]
  }
 ],
 "metadata": {
  "kernelspec": {
   "display_name": "Python 3",
   "language": "python",
   "name": "python3"
  },
  "language_info": {
   "codemirror_mode": {
    "name": "ipython",
    "version": 3
   },
   "file_extension": ".py",
   "mimetype": "text/x-python",
   "name": "python",
   "nbconvert_exporter": "python",
   "pygments_lexer": "ipython3",
   "version": "3.8.5"
  },
  "toc": {
   "base_numbering": 1,
   "nav_menu": {},
   "number_sections": true,
   "sideBar": true,
   "skip_h1_title": true,
   "title_cell": "Table of Contents",
   "title_sidebar": "Contents",
   "toc_cell": false,
   "toc_position": {},
   "toc_section_display": true,
   "toc_window_display": false
  }
 },
 "nbformat": 4,
 "nbformat_minor": 2
}
